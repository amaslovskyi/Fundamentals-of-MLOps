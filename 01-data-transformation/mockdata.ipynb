{
 "cells": [
  {
   "cell_type": "markdown",
   "metadata": {},
   "source": [
    "### Exploration of Data"
   ]
  },
  {
   "cell_type": "code",
   "execution_count": 9,
   "metadata": {},
   "outputs": [],
   "source": [
    "import pandas as pd\n",
    "import json"
   ]
  },
  {
   "cell_type": "code",
   "execution_count": 10,
   "metadata": {},
   "outputs": [],
   "source": [
    "# Load the CSV file into a DataFrame\n",
    "df = pd.read_csv(\"mock_data.csv\")"
   ]
  },
  {
   "cell_type": "code",
   "execution_count": 11,
   "metadata": {},
   "outputs": [
    {
     "data": {
      "text/html": [
       "<div>\n",
       "<style scoped>\n",
       "    .dataframe tbody tr th:only-of-type {\n",
       "        vertical-align: middle;\n",
       "    }\n",
       "\n",
       "    .dataframe tbody tr th {\n",
       "        vertical-align: top;\n",
       "    }\n",
       "\n",
       "    .dataframe thead th {\n",
       "        text-align: right;\n",
       "    }\n",
       "</style>\n",
       "<table border=\"1\" class=\"dataframe\">\n",
       "  <thead>\n",
       "    <tr style=\"text-align: right;\">\n",
       "      <th></th>\n",
       "      <th>id</th>\n",
       "      <th>name</th>\n",
       "      <th>age</th>\n",
       "      <th>salary</th>\n",
       "      <th>hire_date</th>\n",
       "      <th>profile</th>\n",
       "      <th>department</th>\n",
       "      <th>bonus</th>\n",
       "    </tr>\n",
       "  </thead>\n",
       "  <tbody>\n",
       "    <tr>\n",
       "      <th>0</th>\n",
       "      <td>1</td>\n",
       "      <td>Name_103</td>\n",
       "      <td>77.0</td>\n",
       "      <td>60000.0</td>\n",
       "      <td>2018-11-02</td>\n",
       "      <td>{\"address\": \"Street 40, City 29\", \"phone\": \"15...</td>\n",
       "      <td>Marketing</td>\n",
       "      <td>NaN</td>\n",
       "    </tr>\n",
       "    <tr>\n",
       "      <th>1</th>\n",
       "      <td>2</td>\n",
       "      <td>Name_436</td>\n",
       "      <td>62.0</td>\n",
       "      <td>50000.0</td>\n",
       "      <td>2024-04-25</td>\n",
       "      <td>{\"address\": \"Street 59, City 19\", \"phone\": \"38...</td>\n",
       "      <td>Marketing</td>\n",
       "      <td>NaN</td>\n",
       "    </tr>\n",
       "    <tr>\n",
       "      <th>2</th>\n",
       "      <td>3</td>\n",
       "      <td>Name_861</td>\n",
       "      <td>61.0</td>\n",
       "      <td>60000.0</td>\n",
       "      <td>NaN</td>\n",
       "      <td>{\"address\": \"Street 53, City 31\", \"phone\": \"94...</td>\n",
       "      <td>HR</td>\n",
       "      <td>2646.0</td>\n",
       "    </tr>\n",
       "    <tr>\n",
       "      <th>3</th>\n",
       "      <td>4</td>\n",
       "      <td>Name_271</td>\n",
       "      <td>36.0</td>\n",
       "      <td>70000.0</td>\n",
       "      <td>2024-04-20</td>\n",
       "      <td>{\"address\": \"Street 92, City 34\", \"phone\": \"46...</td>\n",
       "      <td>NaN</td>\n",
       "      <td>2470.0</td>\n",
       "    </tr>\n",
       "    <tr>\n",
       "      <th>4</th>\n",
       "      <td>5</td>\n",
       "      <td>Name_107</td>\n",
       "      <td>78.0</td>\n",
       "      <td>60000.0</td>\n",
       "      <td>2016-06-16</td>\n",
       "      <td>{\"address\": \"Street 77, City 39\", \"phone\": \"62...</td>\n",
       "      <td>IT</td>\n",
       "      <td>9582.0</td>\n",
       "    </tr>\n",
       "  </tbody>\n",
       "</table>\n",
       "</div>"
      ],
      "text/plain": [
       "   id      name   age   salary   hire_date  \\\n",
       "0   1  Name_103  77.0  60000.0  2018-11-02   \n",
       "1   2  Name_436  62.0  50000.0  2024-04-25   \n",
       "2   3  Name_861  61.0  60000.0         NaN   \n",
       "3   4  Name_271  36.0  70000.0  2024-04-20   \n",
       "4   5  Name_107  78.0  60000.0  2016-06-16   \n",
       "\n",
       "                                             profile department   bonus  \n",
       "0  {\"address\": \"Street 40, City 29\", \"phone\": \"15...  Marketing     NaN  \n",
       "1  {\"address\": \"Street 59, City 19\", \"phone\": \"38...  Marketing     NaN  \n",
       "2  {\"address\": \"Street 53, City 31\", \"phone\": \"94...         HR  2646.0  \n",
       "3  {\"address\": \"Street 92, City 34\", \"phone\": \"46...        NaN  2470.0  \n",
       "4  {\"address\": \"Street 77, City 39\", \"phone\": \"62...         IT  9582.0  "
      ]
     },
     "execution_count": 11,
     "metadata": {},
     "output_type": "execute_result"
    }
   ],
   "source": [
    "df.head()"
   ]
  },
  {
   "cell_type": "code",
   "execution_count": 12,
   "metadata": {},
   "outputs": [
    {
     "name": "stdout",
     "output_type": "stream",
     "text": [
      "<class 'pandas.core.frame.DataFrame'>\n",
      "RangeIndex: 20000 entries, 0 to 19999\n",
      "Data columns (total 8 columns):\n",
      " #   Column      Non-Null Count  Dtype  \n",
      "---  ------      --------------  -----  \n",
      " 0   id          20000 non-null  int64  \n",
      " 1   name        20000 non-null  object \n",
      " 2   age         19000 non-null  float64\n",
      " 3   salary      13519 non-null  float64\n",
      " 4   hire_date   17967 non-null  object \n",
      " 5   profile     17945 non-null  object \n",
      " 6   department  16003 non-null  object \n",
      " 7   bonus       17960 non-null  float64\n",
      "dtypes: float64(3), int64(1), object(4)\n",
      "memory usage: 1.2+ MB\n"
     ]
    }
   ],
   "source": [
    "# Get a summary of the DataFrame\n",
    "df.info() "
   ]
  },
  {
   "cell_type": "code",
   "execution_count": 13,
   "metadata": {},
   "outputs": [
    {
     "data": {
      "text/plain": [
       "id               0\n",
       "name             0\n",
       "age           1000\n",
       "salary        6481\n",
       "hire_date     2033\n",
       "profile       2055\n",
       "department    3997\n",
       "bonus         2040\n",
       "dtype: int64"
      ]
     },
     "execution_count": 13,
     "metadata": {},
     "output_type": "execute_result"
    }
   ],
   "source": [
    "# Check for missing values\n",
    "df.isnull().sum()"
   ]
  },
  {
   "cell_type": "code",
   "execution_count": 14,
   "metadata": {},
   "outputs": [
    {
     "data": {
      "text/html": [
       "<div>\n",
       "<style scoped>\n",
       "    .dataframe tbody tr th:only-of-type {\n",
       "        vertical-align: middle;\n",
       "    }\n",
       "\n",
       "    .dataframe tbody tr th {\n",
       "        vertical-align: top;\n",
       "    }\n",
       "\n",
       "    .dataframe thead th {\n",
       "        text-align: right;\n",
       "    }\n",
       "</style>\n",
       "<table border=\"1\" class=\"dataframe\">\n",
       "  <thead>\n",
       "    <tr style=\"text-align: right;\">\n",
       "      <th></th>\n",
       "      <th>id</th>\n",
       "      <th>name</th>\n",
       "      <th>age</th>\n",
       "      <th>salary</th>\n",
       "      <th>hire_date</th>\n",
       "      <th>profile</th>\n",
       "      <th>department</th>\n",
       "      <th>bonus</th>\n",
       "    </tr>\n",
       "  </thead>\n",
       "  <tbody>\n",
       "    <tr>\n",
       "      <th>count</th>\n",
       "      <td>20000.000000</td>\n",
       "      <td>20000</td>\n",
       "      <td>19000.000000</td>\n",
       "      <td>13519.000000</td>\n",
       "      <td>17967</td>\n",
       "      <td>17945</td>\n",
       "      <td>16003</td>\n",
       "      <td>17960.000000</td>\n",
       "    </tr>\n",
       "    <tr>\n",
       "      <th>unique</th>\n",
       "      <td>NaN</td>\n",
       "      <td>999</td>\n",
       "      <td>NaN</td>\n",
       "      <td>NaN</td>\n",
       "      <td>3627</td>\n",
       "      <td>17945</td>\n",
       "      <td>4</td>\n",
       "      <td>NaN</td>\n",
       "    </tr>\n",
       "    <tr>\n",
       "      <th>top</th>\n",
       "      <td>NaN</td>\n",
       "      <td>Name_825</td>\n",
       "      <td>NaN</td>\n",
       "      <td>NaN</td>\n",
       "      <td>2020-09-15</td>\n",
       "      <td>{\"address\": \"Street 40, City 29\", \"phone\": \"15...</td>\n",
       "      <td>IT</td>\n",
       "      <td>NaN</td>\n",
       "    </tr>\n",
       "    <tr>\n",
       "      <th>freq</th>\n",
       "      <td>NaN</td>\n",
       "      <td>37</td>\n",
       "      <td>NaN</td>\n",
       "      <td>NaN</td>\n",
       "      <td>14</td>\n",
       "      <td>1</td>\n",
       "      <td>4058</td>\n",
       "      <td>NaN</td>\n",
       "    </tr>\n",
       "    <tr>\n",
       "      <th>mean</th>\n",
       "      <td>10000.500000</td>\n",
       "      <td>NaN</td>\n",
       "      <td>48.444684</td>\n",
       "      <td>59962.275316</td>\n",
       "      <td>NaN</td>\n",
       "      <td>NaN</td>\n",
       "      <td>NaN</td>\n",
       "      <td>5501.858463</td>\n",
       "    </tr>\n",
       "    <tr>\n",
       "      <th>std</th>\n",
       "      <td>5773.647028</td>\n",
       "      <td>NaN</td>\n",
       "      <td>17.892848</td>\n",
       "      <td>8200.588356</td>\n",
       "      <td>NaN</td>\n",
       "      <td>NaN</td>\n",
       "      <td>NaN</td>\n",
       "      <td>2594.160562</td>\n",
       "    </tr>\n",
       "    <tr>\n",
       "      <th>min</th>\n",
       "      <td>1.000000</td>\n",
       "      <td>NaN</td>\n",
       "      <td>18.000000</td>\n",
       "      <td>50000.000000</td>\n",
       "      <td>NaN</td>\n",
       "      <td>NaN</td>\n",
       "      <td>NaN</td>\n",
       "      <td>1001.000000</td>\n",
       "    </tr>\n",
       "    <tr>\n",
       "      <th>25%</th>\n",
       "      <td>5000.750000</td>\n",
       "      <td>NaN</td>\n",
       "      <td>33.000000</td>\n",
       "      <td>50000.000000</td>\n",
       "      <td>NaN</td>\n",
       "      <td>NaN</td>\n",
       "      <td>NaN</td>\n",
       "      <td>3261.000000</td>\n",
       "    </tr>\n",
       "    <tr>\n",
       "      <th>50%</th>\n",
       "      <td>10000.500000</td>\n",
       "      <td>NaN</td>\n",
       "      <td>48.000000</td>\n",
       "      <td>60000.000000</td>\n",
       "      <td>NaN</td>\n",
       "      <td>NaN</td>\n",
       "      <td>NaN</td>\n",
       "      <td>5547.500000</td>\n",
       "    </tr>\n",
       "    <tr>\n",
       "      <th>75%</th>\n",
       "      <td>15000.250000</td>\n",
       "      <td>NaN</td>\n",
       "      <td>64.000000</td>\n",
       "      <td>70000.000000</td>\n",
       "      <td>NaN</td>\n",
       "      <td>NaN</td>\n",
       "      <td>NaN</td>\n",
       "      <td>7736.000000</td>\n",
       "    </tr>\n",
       "    <tr>\n",
       "      <th>max</th>\n",
       "      <td>20000.000000</td>\n",
       "      <td>NaN</td>\n",
       "      <td>79.000000</td>\n",
       "      <td>70000.000000</td>\n",
       "      <td>NaN</td>\n",
       "      <td>NaN</td>\n",
       "      <td>NaN</td>\n",
       "      <td>10000.000000</td>\n",
       "    </tr>\n",
       "  </tbody>\n",
       "</table>\n",
       "</div>"
      ],
      "text/plain": [
       "                  id      name           age        salary   hire_date  \\\n",
       "count   20000.000000     20000  19000.000000  13519.000000       17967   \n",
       "unique           NaN       999           NaN           NaN        3627   \n",
       "top              NaN  Name_825           NaN           NaN  2020-09-15   \n",
       "freq             NaN        37           NaN           NaN          14   \n",
       "mean    10000.500000       NaN     48.444684  59962.275316         NaN   \n",
       "std      5773.647028       NaN     17.892848   8200.588356         NaN   \n",
       "min         1.000000       NaN     18.000000  50000.000000         NaN   \n",
       "25%      5000.750000       NaN     33.000000  50000.000000         NaN   \n",
       "50%     10000.500000       NaN     48.000000  60000.000000         NaN   \n",
       "75%     15000.250000       NaN     64.000000  70000.000000         NaN   \n",
       "max     20000.000000       NaN     79.000000  70000.000000         NaN   \n",
       "\n",
       "                                                  profile department  \\\n",
       "count                                               17945      16003   \n",
       "unique                                              17945          4   \n",
       "top     {\"address\": \"Street 40, City 29\", \"phone\": \"15...         IT   \n",
       "freq                                                    1       4058   \n",
       "mean                                                  NaN        NaN   \n",
       "std                                                   NaN        NaN   \n",
       "min                                                   NaN        NaN   \n",
       "25%                                                   NaN        NaN   \n",
       "50%                                                   NaN        NaN   \n",
       "75%                                                   NaN        NaN   \n",
       "max                                                   NaN        NaN   \n",
       "\n",
       "               bonus  \n",
       "count   17960.000000  \n",
       "unique           NaN  \n",
       "top              NaN  \n",
       "freq             NaN  \n",
       "mean     5501.858463  \n",
       "std      2594.160562  \n",
       "min      1001.000000  \n",
       "25%      3261.000000  \n",
       "50%      5547.500000  \n",
       "75%      7736.000000  \n",
       "max     10000.000000  "
      ]
     },
     "execution_count": 14,
     "metadata": {},
     "output_type": "execute_result"
    }
   ],
   "source": [
    "# View statistical summary for numeric columns\n",
    "df.describe(include='all')"
   ]
  },
  {
   "cell_type": "code",
   "execution_count": 15,
   "metadata": {},
   "outputs": [
    {
     "data": {
      "text/plain": [
       "array(['Marketing', 'HR', nan, 'IT', 'Finance'], dtype=object)"
      ]
     },
     "execution_count": 15,
     "metadata": {},
     "output_type": "execute_result"
    }
   ],
   "source": [
    "# Check unique values in the 'department' column\n",
    "df['department'].unique()"
   ]
  },
  {
   "cell_type": "markdown",
   "metadata": {},
   "source": [
    "### Data Cleaning"
   ]
  },
  {
   "cell_type": "code",
   "execution_count": 16,
   "metadata": {},
   "outputs": [
    {
     "name": "stderr",
     "output_type": "stream",
     "text": [
      "/var/folders/mv/5skqq8p925lbtt_m8d7msnkc0000gn/T/ipykernel_40400/709341248.py:2: FutureWarning: A value is trying to be set on a copy of a DataFrame or Series through chained assignment using an inplace method.\n",
      "The behavior will change in pandas 3.0. This inplace method will never work because the intermediate object on which we are setting values always behaves as a copy.\n",
      "\n",
      "For example, when doing 'df[col].method(value, inplace=True)', try using 'df.method({col: value}, inplace=True)' or df[col] = df[col].method(value) instead, to perform the operation inplace on the original object.\n",
      "\n",
      "\n",
      "  df['age'].fillna(df['age'].median(), inplace=True)\n",
      "/var/folders/mv/5skqq8p925lbtt_m8d7msnkc0000gn/T/ipykernel_40400/709341248.py:3: FutureWarning: A value is trying to be set on a copy of a DataFrame or Series through chained assignment using an inplace method.\n",
      "The behavior will change in pandas 3.0. This inplace method will never work because the intermediate object on which we are setting values always behaves as a copy.\n",
      "\n",
      "For example, when doing 'df[col].method(value, inplace=True)', try using 'df.method({col: value}, inplace=True)' or df[col] = df[col].method(value) instead, to perform the operation inplace on the original object.\n",
      "\n",
      "\n",
      "  df['salary'].fillna(df['salary'].median(), inplace=True)\n"
     ]
    }
   ],
   "source": [
    "# Fill missing values in 'age' and 'salary' with the median\n",
    "df['age'].fillna(df['age'].median(), inplace=True)\n",
    "df['salary'].fillna(df['salary'].median(), inplace=True)"
   ]
  },
  {
   "cell_type": "code",
   "execution_count": 17,
   "metadata": {},
   "outputs": [
    {
     "name": "stderr",
     "output_type": "stream",
     "text": [
      "/var/folders/mv/5skqq8p925lbtt_m8d7msnkc0000gn/T/ipykernel_40400/4109035021.py:2: FutureWarning: A value is trying to be set on a copy of a DataFrame or Series through chained assignment using an inplace method.\n",
      "The behavior will change in pandas 3.0. This inplace method will never work because the intermediate object on which we are setting values always behaves as a copy.\n",
      "\n",
      "For example, when doing 'df[col].method(value, inplace=True)', try using 'df.method({col: value}, inplace=True)' or df[col] = df[col].method(value) instead, to perform the operation inplace on the original object.\n",
      "\n",
      "\n",
      "  df['department'].fillna('Unknown', inplace=True)\n"
     ]
    }
   ],
   "source": [
    "# Fill missing values in 'department' with 'Unknown'\n",
    "df['department'].fillna('Unknown', inplace=True)"
   ]
  },
  {
   "cell_type": "code",
   "execution_count": 18,
   "metadata": {},
   "outputs": [
    {
     "name": "stdout",
     "output_type": "stream",
     "text": [
      "Sample data after filling missing values:\n",
      "   id      name   age   salary   hire_date  \\\n",
      "0   1  Name_103  77.0  60000.0  2018-11-02   \n",
      "1   2  Name_436  62.0  50000.0  2024-04-25   \n",
      "2   3  Name_861  61.0  60000.0         NaN   \n",
      "3   4  Name_271  36.0  70000.0  2024-04-20   \n",
      "4   5  Name_107  78.0  60000.0  2016-06-16   \n",
      "\n",
      "                                             profile department   bonus  \n",
      "0  {\"address\": \"Street 40, City 29\", \"phone\": \"15...  Marketing     NaN  \n",
      "1  {\"address\": \"Street 59, City 19\", \"phone\": \"38...  Marketing     NaN  \n",
      "2  {\"address\": \"Street 53, City 31\", \"phone\": \"94...         HR  2646.0  \n",
      "3  {\"address\": \"Street 92, City 34\", \"phone\": \"46...    Unknown  2470.0  \n",
      "4  {\"address\": \"Street 77, City 39\", \"phone\": \"62...         IT  9582.0   \n",
      "\n"
     ]
    }
   ],
   "source": [
    "# Print sample data after handling missing values\n",
    "print(\"Sample data after filling missing values:\")\n",
    "print(df.head(), \"\\n\")"
   ]
  },
  {
   "cell_type": "code",
   "execution_count": 19,
   "metadata": {},
   "outputs": [],
   "source": [
    "# Convert 'profile' from JSON string to dictionary\n",
    "df['profile'] = df['profile'].apply(lambda x: json.loads(x) if pd.notnull(x) else {})"
   ]
  },
  {
   "cell_type": "code",
   "execution_count": 20,
   "metadata": {},
   "outputs": [
    {
     "name": "stdout",
     "output_type": "stream",
     "text": [
      "Sample data after converting 'profile' column:\n",
      "                                             profile\n",
      "0  {'address': 'Street 40, City 29', 'phone': '15...\n",
      "1  {'address': 'Street 59, City 19', 'phone': '38...\n",
      "2  {'address': 'Street 53, City 31', 'phone': '94...\n",
      "3  {'address': 'Street 92, City 34', 'phone': '46...\n",
      "4  {'address': 'Street 77, City 39', 'phone': '62... \n",
      "\n"
     ]
    }
   ],
   "source": [
    "# Print sample data after converting 'profile' column\n",
    "print(\"Sample data after converting 'profile' column:\")\n",
    "print(df[['profile']].head(), \"\\n\")"
   ]
  },
  {
   "cell_type": "code",
   "execution_count": 21,
   "metadata": {},
   "outputs": [],
   "source": [
    "# Extract 'address', 'phone', and 'email' from 'profile' column\n",
    "df['address'] = df['profile'].apply(lambda x: x.get('address', None))\n",
    "df['phone'] = df['profile'].apply(lambda x: x.get('phone', None))\n",
    "df['email'] = df['profile'].apply(lambda x: x.get('email', None))"
   ]
  },
  {
   "cell_type": "code",
   "execution_count": 22,
   "metadata": {},
   "outputs": [
    {
     "name": "stdout",
     "output_type": "stream",
     "text": [
      "Sample data after extracting fields from 'profile':\n",
      "              address       phone                  email\n",
      "0  Street 40, City 29  1506076536   email_15@example.com\n",
      "1  Street 59, City 19  3852067496  email_951@example.com\n",
      "2  Street 53, City 31  9440261920  email_627@example.com\n",
      "3  Street 92, City 34  4600523881  email_107@example.com\n",
      "4  Street 77, City 39  6297458477   email_16@example.com \n",
      "\n"
     ]
    }
   ],
   "source": [
    "# Print sample data after extracting fields from 'profile'\n",
    "print(\"Sample data after extracting fields from 'profile':\")\n",
    "print(df[['address', 'phone', 'email']].head(), \"\\n\")"
   ]
  },
  {
   "cell_type": "code",
   "execution_count": 23,
   "metadata": {},
   "outputs": [],
   "source": [
    "# Drop the original 'profile' column\n",
    "df.drop(columns=['profile'], inplace=True)"
   ]
  },
  {
   "cell_type": "code",
   "execution_count": 24,
   "metadata": {},
   "outputs": [
    {
     "name": "stdout",
     "output_type": "stream",
     "text": [
      "Sample data after dropping 'profile' column:\n",
      "   id      name   age   salary   hire_date department   bonus  \\\n",
      "0   1  Name_103  77.0  60000.0  2018-11-02  Marketing     NaN   \n",
      "1   2  Name_436  62.0  50000.0  2024-04-25  Marketing     NaN   \n",
      "2   3  Name_861  61.0  60000.0         NaN         HR  2646.0   \n",
      "3   4  Name_271  36.0  70000.0  2024-04-20    Unknown  2470.0   \n",
      "4   5  Name_107  78.0  60000.0  2016-06-16         IT  9582.0   \n",
      "\n",
      "              address       phone                  email  \n",
      "0  Street 40, City 29  1506076536   email_15@example.com  \n",
      "1  Street 59, City 19  3852067496  email_951@example.com  \n",
      "2  Street 53, City 31  9440261920  email_627@example.com  \n",
      "3  Street 92, City 34  4600523881  email_107@example.com  \n",
      "4  Street 77, City 39  6297458477   email_16@example.com   \n",
      "\n"
     ]
    }
   ],
   "source": [
    "# Print sample data after dropping 'profile' column\n",
    "print(\"Sample data after dropping 'profile' column:\")\n",
    "print(df.head(), \"\\n\")"
   ]
  },
  {
   "cell_type": "code",
   "execution_count": 25,
   "metadata": {},
   "outputs": [],
   "source": [
    "# Save the cleaned DataFrame to a new CSV file\n",
    "df.to_csv(\"cleaned_data.csv\", index=False)"
   ]
  },
  {
   "cell_type": "code",
   "execution_count": 26,
   "metadata": {},
   "outputs": [
    {
     "name": "stdout",
     "output_type": "stream",
     "text": [
      "Cleaned data saved to 'cleaned_data.csv'\n"
     ]
    }
   ],
   "source": [
    "# Confirm data has been saved\n",
    "print(\"Cleaned data saved to 'cleaned_data.csv'\")"
   ]
  },
  {
   "cell_type": "markdown",
   "metadata": {},
   "source": [
    "### Data Transformation"
   ]
  },
  {
   "cell_type": "code",
   "execution_count": 28,
   "metadata": {},
   "outputs": [],
   "source": [
    "# Add a new column 'address_length' that calculates the length of the address\n",
    "df['address_length'] = df['address'].apply(lambda x: len(str(x)))"
   ]
  },
  {
   "cell_type": "code",
   "execution_count": 29,
   "metadata": {},
   "outputs": [
    {
     "name": "stdout",
     "output_type": "stream",
     "text": [
      "Sample data after adding 'address_length' column:\n",
      "              address  address_length\n",
      "0  Street 40, City 29              18\n",
      "1  Street 59, City 19              18\n",
      "2  Street 53, City 31              18\n",
      "3  Street 92, City 34              18\n",
      "4  Street 77, City 39              18 \n",
      "\n"
     ]
    }
   ],
   "source": [
    "# Print sample data after adding 'address_length' column\n",
    "print(\"Sample data after adding 'address_length' column:\")\n",
    "print(df[['address', 'address_length']].head(), \"\\n\")"
   ]
  },
  {
   "cell_type": "code",
   "execution_count": 30,
   "metadata": {},
   "outputs": [],
   "source": [
    "# Define the bins and labels\n",
    "bins = [0, 50000, 70000, 100000]\n",
    "labels = ['low', 'medium', 'high']"
   ]
  },
  {
   "cell_type": "code",
   "execution_count": 31,
   "metadata": {},
   "outputs": [],
   "source": [
    "# Create a new column 'salary_category'\n",
    "df['salary_category'] = pd.cut(df['salary'], bins=bins, labels=labels, include_lowest=True)"
   ]
  },
  {
   "cell_type": "code",
   "execution_count": 32,
   "metadata": {},
   "outputs": [
    {
     "name": "stdout",
     "output_type": "stream",
     "text": [
      "Sample data after adding 'salary_category' column:\n",
      "    salary salary_category\n",
      "0  60000.0          medium\n",
      "1  50000.0             low\n",
      "2  60000.0          medium\n",
      "3  70000.0          medium\n",
      "4  60000.0          medium \n",
      "\n"
     ]
    }
   ],
   "source": [
    "# Print sample data after adding 'salary_category' column\n",
    "print(\"Sample data after adding 'salary_category' column:\")\n",
    "print(df[['salary', 'salary_category']].head(), \"\\n\")"
   ]
  },
  {
   "cell_type": "code",
   "execution_count": 33,
   "metadata": {},
   "outputs": [],
   "source": [
    "# Group by 'department' and calculate average salary and age\n",
    "summary_report = df.groupby('department').agg({\n",
    "    'salary': 'mean',\n",
    "    'age': 'mean'\n",
    "}).reset_index()"
   ]
  },
  {
   "cell_type": "code",
   "execution_count": 34,
   "metadata": {},
   "outputs": [],
   "source": [
    "# Rename columns for clarity\n",
    "summary_report.columns = ['Department', 'Average Salary', 'Average Age']"
   ]
  },
  {
   "cell_type": "code",
   "execution_count": 35,
   "metadata": {},
   "outputs": [
    {
     "name": "stdout",
     "output_type": "stream",
     "text": [
      "Summary report of average salary and age by department:\n",
      "  Department  Average Salary  Average Age\n",
      "0    Finance    59830.035515    48.345256\n",
      "1         HR    60015.155342    48.620106\n",
      "2         IT    60034.499754    48.650074\n",
      "3  Marketing    60049.455984    48.419139\n",
      "4    Unknown    59939.954966    48.075056 \n",
      "\n"
     ]
    }
   ],
   "source": [
    "# Print the summary report\n",
    "print(\"Summary report of average salary and age by department:\")\n",
    "print(summary_report, \"\\n\")"
   ]
  },
  {
   "cell_type": "code",
   "execution_count": 36,
   "metadata": {},
   "outputs": [],
   "source": [
    "# Save the final transformed DataFrame to a new CSV file\n",
    "df.to_csv(\"transformed_data.csv\", index=False)"
   ]
  },
  {
   "cell_type": "code",
   "execution_count": 37,
   "metadata": {},
   "outputs": [
    {
     "name": "stdout",
     "output_type": "stream",
     "text": [
      "Final transformed data saved to 'transformed_data.csv'\n"
     ]
    }
   ],
   "source": [
    "# Confirm data has been saved\n",
    "print(\"Final transformed data saved to 'transformed_data.csv'\")"
   ]
  }
 ],
 "metadata": {
  "kernelspec": {
   "display_name": "llm",
   "language": "python",
   "name": "python3"
  },
  "language_info": {
   "codemirror_mode": {
    "name": "ipython",
    "version": 3
   },
   "file_extension": ".py",
   "mimetype": "text/x-python",
   "name": "python",
   "nbconvert_exporter": "python",
   "pygments_lexer": "ipython3",
   "version": "3.12.8"
  }
 },
 "nbformat": 4,
 "nbformat_minor": 2
}
